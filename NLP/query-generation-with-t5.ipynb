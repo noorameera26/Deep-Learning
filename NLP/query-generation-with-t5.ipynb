{
 "cells": [
  {
   "cell_type": "code",
   "execution_count": 1,
   "metadata": {},
   "outputs": [
    {
     "name": "stderr",
     "output_type": "stream",
     "text": [
      "c:\\Users\\nreniex\\OneDrive - Intel Corporation\\Documents\\Intel-Projects\\Deep-Learning\\venv\\lib\\site-packages\\tqdm\\auto.py:21: TqdmWarning: IProgress not found. Please update jupyter and ipywidgets. See https://ipywidgets.readthedocs.io/en/stable/user_install.html\n",
      "  from .autonotebook import tqdm as notebook_tqdm\n"
     ]
    }
   ],
   "source": [
    "from transformers import T5Tokenizer, T5ForConditionalGeneration\n",
    "\n",
    "#download and load pretrained t5 model (fine-tuned for query generation from BeIR)\n",
    "t5_model = 'BeIR/query-gen-msmarco-t5-large-v1'\n",
    "\n",
    "tokenizer = T5Tokenizer.from_pretrained(t5_model)\n",
    "model = T5ForConditionalGeneration.from_pretrained(t5_model)"
   ]
  },
  {
   "cell_type": "code",
   "execution_count": 20,
   "metadata": {},
   "outputs": [
    {
     "name": "stdout",
     "output_type": "stream",
     "text": [
      "Input Text: We are designing a BMC-less CPU board with Ice Lake-D. Do you have any recommended or possible embedded graphic chip to put on the CPU board? \n",
      "\n",
      "Generated queries:\n",
      "1: what graphics card is on a cpu\n",
      "2: what graphics card do i need for ice lake\n",
      "3: what graphics card can be embedded on a cpu\n",
      "4: what graphics chips are recommended for cpu\n",
      "5: what cpu is bmc less\n"
     ]
    }
   ],
   "source": [
    "para = '''We are designing a BMC-less CPU board with Ice Lake-D. Do you have any recommended or possible embedded graphic chip to put on the CPU board?'''\n",
    "\n",
    "#create input ids by tokenizing text\n",
    "input_ids = tokenizer.encode(para, return_tensors='pt')\n",
    "\n",
    "#generate three sequences\n",
    "outputs = model.generate(\n",
    "    input_ids=input_ids,\n",
    "    max_length=150,\n",
    "    do_sample=True,\n",
    "    top_p=0.5,\n",
    "    num_return_sequences=5\n",
    ")\n",
    "\n",
    "#print queries generated\n",
    "print(\"Input Text:\", para, \"\\n\")\n",
    "print(\"Generated queries:\")\n",
    "for i in range(len(outputs)):\n",
    "    query = tokenizer.decode(outputs[i], skip_special_tokens=True)\n",
    "    print(f'{i + 1}: {query}')\n",
    "    \n",
    "#Results: Not great for generating queries for context with a lot of technical words"
   ]
  }
 ],
 "metadata": {
  "kernelspec": {
   "display_name": "venv",
   "language": "python",
   "name": "python3"
  },
  "language_info": {
   "codemirror_mode": {
    "name": "ipython",
    "version": 3
   },
   "file_extension": ".py",
   "mimetype": "text/x-python",
   "name": "python",
   "nbconvert_exporter": "python",
   "pygments_lexer": "ipython3",
   "version": "3.10.4"
  },
  "orig_nbformat": 4
 },
 "nbformat": 4,
 "nbformat_minor": 2
}
